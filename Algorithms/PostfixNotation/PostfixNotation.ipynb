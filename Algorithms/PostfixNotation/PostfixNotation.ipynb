{
 "cells": [
  {
   "metadata": {},
   "cell_type": "markdown",
   "source": [
    "# Postfix Notation\n",
    "***\n",
    "## Create a function to check if a given string is a valid postfix notation"
   ],
   "id": "3afebc4d636f822a"
  },
  {
   "metadata": {
    "ExecuteTime": {
     "end_time": "2024-09-29T09:04:24.721038Z",
     "start_time": "2024-09-29T09:04:24.717310Z"
    }
   },
   "cell_type": "code",
   "source": [
    "def check_string(string_):\n",
    "    for element_ in string_:\n",
    "        if element_ not in [\"0\", \"1\", \"2\", \"3\", \"4\", \"5\", \"6\", \"7\", \"8\", \"9\", \"+\", \"-\", \"*\", \"/\", \":\", \"^\", \"(\", \")\"]:\n",
    "            return True\n",
    "\n",
    "    return False"
   ],
   "id": "3ee321896cd7875",
   "outputs": [],
   "execution_count": 7
  },
  {
   "metadata": {},
   "cell_type": "markdown",
   "source": "## Create a function to tokenize a given string",
   "id": "e211e9d580af9f82"
  },
  {
   "metadata": {
    "ExecuteTime": {
     "end_time": "2024-09-29T09:04:25.094004Z",
     "start_time": "2024-09-29T09:04:25.090743Z"
    }
   },
   "cell_type": "code",
   "source": [
    "def tokenizer(string_):\n",
    "    if check_string(string_):\n",
    "        return False\n",
    "    lst_punct_marks = [index for (index, item) in enumerate(string_) if not item.isdigit()]\n",
    "    token_ = []\n",
    "    for idx in range(len(lst_punct_marks) - 1):\n",
    "        token_.extend([string_[lst_punct_marks[idx]], string_[lst_punct_marks[idx] + 1:lst_punct_marks[idx + 1]]])\n",
    "    token_.append(string_[lst_punct_marks[-1]])\n",
    "    if lst_punct_marks[0] != 0:\n",
    "        token_.insert(0, string_[:lst_punct_marks[0]])\n",
    "    if lst_punct_marks[-1] != len(string_):\n",
    "        token_.append(string_[lst_punct_marks[-1] + 1:])\n",
    "    token_ = ' '.join(token_).split()\n",
    "    return token_"
   ],
   "id": "8e30649b558048c4",
   "outputs": [],
   "execution_count": 8
  },
  {
   "metadata": {},
   "cell_type": "markdown",
   "source": "## Create a function to convert infix notation to postfix notation",
   "id": "bc99560982ec1803"
  },
  {
   "metadata": {
    "ExecuteTime": {
     "end_time": "2024-09-29T09:04:25.484261Z",
     "start_time": "2024-09-29T09:04:25.479975Z"
    }
   },
   "cell_type": "code",
   "source": [
    "def postfix_notation(string_):\n",
    "    tokens = tokenizer(string_)\n",
    "    operators = [\"+\", \"-\", \"*\", \"/\", \":\", \"^\"]\n",
    "    oper = {\"+\": 0, \"-\": 0, \"*\": 1, \"/\": 1, \":\": 1, \"^\": 1}\n",
    "    queue_ = []\n",
    "    stack = []\n",
    "    while tokens:\n",
    "        if tokens[0].isdigit():\n",
    "            queue_.append(tokens[0])\n",
    "            tokens.pop(0)\n",
    "        elif tokens[0] in operators:\n",
    "            try:\n",
    "                while oper[tokens[0]] <= oper[stack[-1]]:\n",
    "                    queue_.append(stack[-1])\n",
    "                    stack.pop()\n",
    "            except:\n",
    "                pass\n",
    "            stack.append(tokens[0])\n",
    "            tokens.pop(0)\n",
    "        elif tokens[0] == \"(\":\n",
    "            stack.append(tokens[0])\n",
    "            tokens.pop(0)\n",
    "        elif tokens[0] == \")\":\n",
    "            try:\n",
    "                while stack[-1] != \"(\":\n",
    "                    queue_.append(stack[-1])\n",
    "                    stack.pop()\n",
    "            except:\n",
    "                pass\n",
    "            tokens.pop(0)\n",
    "            stack.pop()\n",
    "    try:\n",
    "        while stack[-1] in operators:\n",
    "            queue_.append(stack[-1])\n",
    "            stack.pop()\n",
    "    except:\n",
    "        pass\n",
    "    return queue_"
   ],
   "id": "4c07244c71f52ace",
   "outputs": [],
   "execution_count": 9
  },
  {
   "metadata": {},
   "cell_type": "markdown",
   "source": "## Create a function to evaluate a postfix notation",
   "id": "6fb7c62b1876da37"
  },
  {
   "metadata": {
    "ExecuteTime": {
     "end_time": "2024-09-29T09:06:37.707637Z",
     "start_time": "2024-09-29T09:06:37.703215Z"
    }
   },
   "cell_type": "code",
   "source": [
    "def calculate(string_):\n",
    "    tokens_ = postfix_notation(string_)\n",
    "    stack_ = []\n",
    "    operators = [\"+\", \"-\", \"*\", \"/\", \":\", \"^\"]\n",
    "    while tokens_:\n",
    "        if tokens_[0].isdigit():\n",
    "            stack_.append(tokens_[0])\n",
    "            tokens_.pop(0)\n",
    "        elif tokens_[0] in operators:\n",
    "            x2 = stack_.pop()\n",
    "            x1 = stack_.pop()\n",
    "            if tokens_[0] == \"^\":\n",
    "                stack_.append(eval(f\"{x1}**{x2}\"))\n",
    "            else:\n",
    "                stack_.append(eval(f\"{x1}{tokens_[0]}{x2}\"))\n",
    "            tokens_.pop(0)\n",
    "    return round(stack_[0])"
   ],
   "id": "1ae95c24ae3adbd0",
   "outputs": [],
   "execution_count": 15
  },
  {
   "metadata": {},
   "cell_type": "markdown",
   "source": "## Test the functions",
   "id": "49f79edb06bcaea4"
  },
  {
   "metadata": {
    "ExecuteTime": {
     "end_time": "2024-09-29T09:06:38.236021Z",
     "start_time": "2024-09-29T09:06:38.232879Z"
    }
   },
   "cell_type": "code",
   "source": [
    "def result(main_string):\n",
    "    print(f\"Tokens: {tokenizer(main_string)}\")\n",
    "    print(f\"Postfix notation: {postfix_notation(main_string)}\")\n",
    "    print(f\"Postfix notation result: {calculate(main_string)}\")\n",
    "    print(\"\\n\")"
   ],
   "id": "c778fe73f2d36612",
   "outputs": [],
   "execution_count": 16
  },
  {
   "metadata": {},
   "cell_type": "markdown",
   "source": "# Test 1",
   "id": "36f69a7f5c01fd12"
  },
  {
   "metadata": {
    "ExecuteTime": {
     "end_time": "2024-09-29T09:06:38.836160Z",
     "start_time": "2024-09-29T09:06:38.832546Z"
    }
   },
   "cell_type": "code",
   "source": [
    "test_string_1 = \"3+4*2/(1-5)^2\" # 3 4 2 * 1 5 - / 2 + => -1\n",
    "result(test_string_1)"
   ],
   "id": "82133ad9b1e99874",
   "outputs": [
    {
     "name": "stdout",
     "output_type": "stream",
     "text": [
      "Tokens: ['3', '+', '4', '*', '2', '/', '(', '1', '-', '5', ')', '^', '2']\n",
      "Postfix notation: ['3', '4', '2', '*', '1', '5', '-', '/', '2', '^', '+']\n",
      "Postfix notation result: -1\n",
      "\n",
      "\n"
     ]
    }
   ],
   "execution_count": 17
  },
  {
   "metadata": {},
   "cell_type": "markdown",
   "source": "# Test 2",
   "id": "615b1ebe53f7052a"
  },
  {
   "metadata": {
    "ExecuteTime": {
     "end_time": "2024-09-29T09:10:16.235959Z",
     "start_time": "2024-09-29T09:10:16.223361Z"
    }
   },
   "cell_type": "code",
   "source": [
    "test_string_2 = \"3+4*2/(1-5)^2+7\" # 3 4 2 * 1 5 - / 2 + 7 + => 6\n",
    "result(test_string_2)\n"
   ],
   "id": "4b683e52838acfaa",
   "outputs": [
    {
     "name": "stdout",
     "output_type": "stream",
     "text": [
      "Tokens: ['3', '+', '4', '*', '2', '/', '(', '1', '-', '5', ')', '^', '2', '+', '7']\n",
      "Postfix notation: ['3', '4', '2', '*', '1', '5', '-', '/', '2', '^', '+', '7', '+']\n",
      "Postfix notation result: 6\n",
      "\n",
      "\n"
     ]
    }
   ],
   "execution_count": 18
  },
  {
   "metadata": {},
   "cell_type": "markdown",
   "source": "# Test 3",
   "id": "ed48d275264794aa"
  },
  {
   "metadata": {
    "ExecuteTime": {
     "end_time": "2024-09-29T09:13:46.686492Z",
     "start_time": "2024-09-29T09:13:46.679743Z"
    }
   },
   "cell_type": "code",
   "source": [
    "test_string_3 = \"3+4*2/(1-5)^2+7*8\" # 3 4 2 * 1 5 - / 2 ^ + 7 8 * + => 55\n",
    "result(test_string_3)"
   ],
   "id": "851ae1a65a25875a",
   "outputs": [
    {
     "name": "stdout",
     "output_type": "stream",
     "text": [
      "Tokens: ['3', '+', '4', '*', '2', '/', '(', '1', '-', '5', ')', '^', '2', '+', '7', '*', '8']\n",
      "Postfix notation: ['3', '4', '2', '*', '1', '5', '-', '/', '2', '^', '+', '7', '8', '*', '+']\n",
      "Postfix notation result: 55\n",
      "\n",
      "\n"
     ]
    }
   ],
   "execution_count": 20
  },
  {
   "metadata": {},
   "cell_type": "markdown",
   "source": "# Test 4",
   "id": "6c121ca6e276f016"
  },
  {
   "metadata": {
    "ExecuteTime": {
     "end_time": "2024-09-29T09:14:33.548627Z",
     "start_time": "2024-09-29T09:14:33.545514Z"
    }
   },
   "cell_type": "code",
   "source": [
    "test_string_4 = \"4*(5-(7+2))\" # 4 5 7 2 + - * => -16\n",
    "result(test_string_4)"
   ],
   "id": "92a9869921e7a63c",
   "outputs": [
    {
     "name": "stdout",
     "output_type": "stream",
     "text": [
      "Tokens: ['4', '*', '(', '5', '-', '(', '7', '+', '2', ')', ')']\n",
      "Postfix notation: ['4', '5', '7', '2', '+', '-', '*']\n",
      "Postfix notation result: -16\n",
      "\n",
      "\n"
     ]
    }
   ],
   "execution_count": 22
  }
 ],
 "metadata": {
  "kernelspec": {
   "display_name": "Python 3",
   "language": "python",
   "name": "python3"
  },
  "language_info": {
   "codemirror_mode": {
    "name": "ipython",
    "version": 2
   },
   "file_extension": ".py",
   "mimetype": "text/x-python",
   "name": "python",
   "nbconvert_exporter": "python",
   "pygments_lexer": "ipython2",
   "version": "2.7.6"
  }
 },
 "nbformat": 4,
 "nbformat_minor": 5
}

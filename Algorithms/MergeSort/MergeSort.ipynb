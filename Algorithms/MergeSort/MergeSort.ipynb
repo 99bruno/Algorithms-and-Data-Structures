{
 "cells": [
  {
   "cell_type": "markdown",
   "id": "739a93a8",
   "metadata": {},
   "source": [
    "# Load data"
   ]
  },
  {
   "cell_type": "code",
   "execution_count": 355,
   "id": "a27bf398",
   "metadata": {},
   "outputs": [],
   "source": [
    "with open(\"Data/input_1000_100.txt\", \"r\") as file:\n",
    "    content = file.read()\n",
    "    content = content.split(\"\\n\")[1:-1]"
   ]
  },
  {
   "cell_type": "markdown",
   "id": "7958cd4a",
   "metadata": {},
   "source": [
    "# Create a dict "
   ]
  },
  {
   "cell_type": "code",
   "execution_count": 360,
   "id": "80675d4a",
   "metadata": {},
   "outputs": [],
   "source": [
    "dict_values = {}\n",
    "for string in content:\n",
    "    lst = string.split()\n",
    "    dict_values[int(lst[0])] = [int(elmt) for elmt in lst[1:]]"
   ]
  },
  {
   "cell_type": "markdown",
   "id": "bfc5dcd7",
   "metadata": {},
   "source": [
    "# Create a Merge function"
   ]
  },
  {
   "cell_type": "code",
   "execution_count": 476,
   "id": "6e3ee15e",
   "metadata": {},
   "outputs": [],
   "source": [
    "def merge(l_array, r_array, array_):\n",
    "    \n",
    "    # Set indexes for arrays\n",
    "    l_i, r_i, m_i = 0, 0, 0\n",
    "    \n",
    "    # Merge right and left array\n",
    "    while l_i < len(l_array) and r_i < len(r_array):\n",
    "            if l_array[l_i] <= r_array[r_i]:\n",
    "                array_[m_i] = l_array[l_i]\n",
    "                l_i += 1\n",
    "            else:\n",
    "                array_[m_i] = r_array[r_i]\n",
    "                r_i += 1\n",
    "            m_i += 1\n",
    "    \n",
    "    # Check if smth remained in left array\n",
    "    while l_i < len(l_array):\n",
    "        array_[m_i] = l_array[l_i]\n",
    "        l_i += 1\n",
    "        m_i += 1\n",
    "            \n",
    "    # Check if smth remained in right array\n",
    "    while r_i < len(r_array):\n",
    "        array_[m_i] = r_array[r_i]\n",
    "        r_i += 1\n",
    "        m_i += 1"
   ]
  },
  {
   "cell_type": "markdown",
   "id": "8d71c64d",
   "metadata": {},
   "source": [
    "# Create a Merge sort function"
   ]
  },
  {
   "cell_type": "code",
   "execution_count": 477,
   "id": "f7ac8edf",
   "metadata": {},
   "outputs": [],
   "source": [
    "def merge_sort(array_):\n",
    "    # Define the middle of array\n",
    "    m_index = len(array_) // 2\n",
    "    \n",
    "    # Check if array not empty\n",
    "    if m_index:\n",
    "        \n",
    "        # Divide to right and left array\n",
    "        l_array = array_[:m_index]\n",
    "        r_array = array_[m_index:]\n",
    "        \n",
    "        # Make a recursion with right and left array\n",
    "        merge_sort(l_array)\n",
    "        merge_sort(r_array)\n",
    "        \n",
    "        # Merge left and right array\n",
    "        merge(l_array, r_array, array_)"
   ]
  },
  {
   "cell_type": "markdown",
   "id": "74ce7829",
   "metadata": {},
   "source": [
    "# Create a output function"
   ]
  },
  {
   "cell_type": "code",
   "execution_count": 478,
   "id": "c5f5e34f",
   "metadata": {},
   "outputs": [],
   "source": [
    "def on_change(idx):\n",
    "    if idx in [x for x in range(997)]:\n",
    "        result = [item1 + item2 + item3 + item4 + item5 for item1, item2, item3, item4, item5  in zip(dict_values[idx], dict_values[idx+1], dict_values[idx+2], dict_values[idx+3], dict_values[idx+4] )]\n",
    "        print(f\"Array : \\n{result} \\n{'-'*129}\")\n",
    "        merge_sort(result)\n",
    "        print(f\"Sorted array : \\n{result}\")\n",
    "    else:\n",
    "        print(\"Incorect index\")"
   ]
  },
  {
   "cell_type": "markdown",
   "id": "207a27ed",
   "metadata": {},
   "source": [
    "# Start our function"
   ]
  },
  {
   "cell_type": "code",
   "execution_count": 479,
   "id": "5055f7ac",
   "metadata": {},
   "outputs": [
    {
     "name": "stdout",
     "output_type": "stream",
     "text": [
      "Array : \n",
      "[254, 325, 380, 244, 154, 286, 246, 224, 236, 357, 295, 358, 237, 262, 235, 251, 201, 243, 332, 279, 274, 341, 336, 335, 206, 196, 179, 257, 254, 333, 156, 346, 224, 166, 273, 278, 318, 249, 177, 162, 138, 314, 222, 235, 284, 298, 379, 214, 291, 280, 183, 292, 167, 385, 357, 352, 207, 199, 273, 299, 247, 152, 335, 175, 187, 210, 348, 184, 198, 237, 204, 145, 189, 241, 236, 146, 221, 262, 174, 128, 158, 307, 376, 251, 321, 317, 173, 153, 294, 272, 216, 258, 329, 304, 317, 166, 222, 274, 248, 247] \n",
      "---------------------------------------------------------------------------------------------------------------------------------\n",
      "Sorted array : \n",
      "[128, 138, 145, 146, 152, 153, 154, 156, 158, 162, 166, 166, 167, 173, 174, 175, 177, 179, 183, 184, 187, 189, 196, 198, 199, 201, 204, 206, 207, 210, 214, 216, 221, 222, 222, 224, 224, 235, 235, 236, 236, 237, 237, 241, 243, 244, 246, 247, 247, 248, 249, 251, 251, 254, 254, 257, 258, 262, 262, 272, 273, 273, 274, 274, 278, 279, 280, 284, 286, 291, 292, 294, 295, 298, 299, 304, 307, 314, 317, 317, 318, 321, 325, 329, 332, 333, 335, 335, 336, 341, 346, 348, 352, 357, 357, 358, 376, 379, 380, 385]\n"
     ]
    }
   ],
   "source": [
    "on_change(578)"
   ]
  },
  {
   "cell_type": "markdown",
   "id": "7b417535",
   "metadata": {},
   "source": [
    "# Check on test data"
   ]
  },
  {
   "cell_type": "code",
   "execution_count": 471,
   "id": "7a481c47",
   "metadata": {},
   "outputs": [],
   "source": [
    "with open(\"Data/test_10_5.txt\", \"r\") as file:\n",
    "    content_ = file.read()\n",
    "    content_ = content_.split(\"\\n\")[1:-1]"
   ]
  },
  {
   "cell_type": "code",
   "execution_count": 472,
   "id": "4fcdcbfa",
   "metadata": {},
   "outputs": [],
   "source": [
    "dict_values_ = {}\n",
    "for string in content_[7:17]:\n",
    "    lst = string.split()\n",
    "    dict_values_[int(lst[0])] = [int(elmt) for elmt in lst[1:]]"
   ]
  },
  {
   "cell_type": "code",
   "execution_count": 473,
   "id": "1f1c6f6a",
   "metadata": {},
   "outputs": [
    {
     "name": "stdout",
     "output_type": "stream",
     "text": [
      "[16, 11, 9, 18, 21]\n"
     ]
    },
    {
     "data": {
      "text/plain": [
       "[9, 11, 16, 18, 21]"
      ]
     },
     "execution_count": 473,
     "metadata": {},
     "output_type": "execute_result"
    }
   ],
   "source": [
    "idx = 4\n",
    "test = [item1 + item2 + item3 + item4 + item5 for item1, item2, item3, item4, item5  in zip(dict_values_[idx], dict_values_[idx+1], dict_values_[idx+2], dict_values_[idx+3], dict_values_[idx+4] )]\n",
    "print(test)\n",
    "merge_sort(test)\n",
    "test"
   ]
  }
 ],
 "metadata": {
  "kernelspec": {
   "display_name": "Python 3 (ipykernel)",
   "language": "python",
   "name": "python3"
  },
  "language_info": {
   "codemirror_mode": {
    "name": "ipython",
    "version": 3
   },
   "file_extension": ".py",
   "mimetype": "text/x-python",
   "name": "python",
   "nbconvert_exporter": "python",
   "pygments_lexer": "ipython3",
   "version": "3.11.4"
  }
 },
 "nbformat": 4,
 "nbformat_minor": 5
}

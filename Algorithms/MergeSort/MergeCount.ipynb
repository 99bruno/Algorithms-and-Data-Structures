{
 "cells": [
  {
   "cell_type": "markdown",
   "id": "e322170e",
   "metadata": {},
   "source": [
    "# Load data"
   ]
  },
  {
   "cell_type": "code",
   "id": "c30b6fa4",
   "metadata": {
    "ExecuteTime": {
     "end_time": "2024-09-29T07:55:11.351319Z",
     "start_time": "2024-09-29T07:55:11.343606Z"
    }
   },
   "source": [
    "with open(\"Data/input_1000_100.txt\", \"r\") as file:\n",
    "    content = file.read()\n",
    "    content = content.split(\"\\n\")[1:-1]"
   ],
   "outputs": [],
   "execution_count": 2
  },
  {
   "cell_type": "markdown",
   "id": "c5a5de68",
   "metadata": {},
   "source": [
    "# Create a dict "
   ]
  },
  {
   "cell_type": "code",
   "execution_count": 29,
   "id": "28631293",
   "metadata": {},
   "outputs": [],
   "source": [
    "dict_values = {}\n",
    "for string in content:\n",
    "    lst = string.split()\n",
    "    dict_values[int(lst[0])] = [int(elmt) for elmt in lst[1:]]"
   ]
  },
  {
   "cell_type": "markdown",
   "id": "d84304b5",
   "metadata": {},
   "source": [
    "# Create a Merge and Count function"
   ]
  },
  {
   "cell_type": "code",
   "execution_count": 304,
   "id": "e3aedfd1",
   "metadata": {},
   "outputs": [],
   "source": [
    "def merge_and_count(array_, l_array, r_array, m_index):      \n",
    "        \n",
    "    # Set indexes for arrays\n",
    "    l_i, r_i, m_i = 0, 0, 0\n",
    "    \n",
    "    # Set inv\n",
    "    inv = 0\n",
    "    \n",
    "    # Merge right and left array\n",
    "    while l_i < len(l_array) and r_i < len(r_array):\n",
    "            if l_array[l_i] <= r_array[r_i]:\n",
    "                array_[m_i] = l_array[l_i]\n",
    "                l_i += 1\n",
    "            else:\n",
    "                array_[m_i] = r_array[r_i]\n",
    "                r_i += 1\n",
    "                inv += len(l_array) - l_i\n",
    "            m_i += 1\n",
    "    \n",
    "    # Check if smth remained in left array\n",
    "    while l_i < len(l_array):\n",
    "        array_[m_i] = l_array[l_i]\n",
    "        l_i += 1\n",
    "        m_i += 1\n",
    "        \n",
    "            \n",
    "    # Check if smth remained in right array\n",
    "    while r_i < len(r_array):\n",
    "        array_[m_i] = r_array[r_i]\n",
    "        r_i += 1\n",
    "        m_i += 1\n",
    "        \n",
    "    return array_, inv\n",
    "    "
   ]
  },
  {
   "cell_type": "markdown",
   "id": "fcf970af",
   "metadata": {},
   "source": [
    "# Create a Sort and Count function"
   ]
  },
  {
   "cell_type": "code",
   "execution_count": 305,
   "id": "1b895066",
   "metadata": {},
   "outputs": [],
   "source": [
    "def sort_and_count(array_):\n",
    "    \n",
    "    # Define the middle of array\n",
    "    m_index = len(array_) // 2\n",
    "    \n",
    "    # Check if array not empty\n",
    "    if m_index:\n",
    "        \n",
    "        # Divide to right and left array\n",
    "        l_array = array_[:m_index]\n",
    "        r_array = array_[m_index:]\n",
    "        \n",
    "        # Make a recursion with right and left array\n",
    "        l_array, l_inv = sort_and_count(l_array)\n",
    "        r_array, r_inv = sort_and_count(r_array)\n",
    "        \n",
    "        # Merge left and right array\n",
    "        array_, m_inv = merge_and_count(array_, l_array, r_array, m_index)\n",
    "        return  array_, l_inv + r_inv + m_inv\n",
    "    else:\n",
    "        return array_, 0\n",
    "    \n",
    "    "
   ]
  },
  {
   "cell_type": "markdown",
   "id": "11600a3d",
   "metadata": {},
   "source": [
    "# Create a arrays merge function"
   ]
  },
  {
   "cell_type": "code",
   "execution_count": 306,
   "id": "0412a4ec",
   "metadata": {},
   "outputs": [],
   "source": [
    "def array_merge(user1, user2):\n",
    "    arr = []\n",
    "    for idx in range(1,len(user1)+1# Create a output function):\n",
    "        arr.append(user2[user1.index(idx)])\n",
    "    return arr\n",
    "    "
   ]
  },
  {
   "cell_type": "markdown",
   "id": "49812a5e",
   "metadata": {},
   "source": [
    "# Create an output function"
   ]
  },
  {
   "cell_type": "code",
   "execution_count": 307,
   "id": "85efe4f8",
   "metadata": {},
   "outputs": [],
   "source": [
    "def on_change(user1, user2):\n",
    "    if user1 in list(dict_values.keys()) and user2 in list(dict_values.keys()):\n",
    "        \n",
    "        array_ = array_merge(dict_values[user1], dict_values[user2])\n",
    "        sorted_array = sort_and_count(array_)\n",
    "        s = (1 - (2*sorted_array[-1]/((len(sorted_array[0])-1)*len(sorted_array[0]))))*100\n",
    "        return f\"Level of similarity - {round(s)}%\"\n",
    "    "
   ]
  },
  {
   "cell_type": "markdown",
   "id": "b8163a26",
   "metadata": {},
   "source": [
    "# Start our function"
   ]
  },
  {
   "cell_type": "code",
   "execution_count": 321,
   "id": "e92a7416",
   "metadata": {},
   "outputs": [
    {
     "data": {
      "text/plain": [
       "'Level of similarity - 44%'"
      ]
     },
     "execution_count": 321,
     "metadata": {},
     "output_type": "execute_result"
    }
   ],
   "source": [
    "on_change(236, 988)"
   ]
  },
  {
   "cell_type": "markdown",
   "id": "8292e3f3",
   "metadata": {},
   "source": [
    "# Check on test data"
   ]
  },
  {
   "cell_type": "code",
   "execution_count": 322,
   "id": "7160b11f",
   "metadata": {},
   "outputs": [
    {
     "data": {
      "text/plain": [
       "6"
      ]
     },
     "execution_count": 322,
     "metadata": {},
     "output_type": "execute_result"
    }
   ],
   "source": [
    "sort_and_count(array_merge([5, 3, 1, 2, 4], [4, 3, 5, 2, 1]))[-1]"
   ]
  },
  {
   "cell_type": "code",
   "execution_count": 323,
   "id": "9e97c654",
   "metadata": {},
   "outputs": [
    {
     "data": {
      "text/plain": [
       "7"
      ]
     },
     "execution_count": 323,
     "metadata": {},
     "output_type": "execute_result"
    }
   ],
   "source": [
    "sort_and_count(array_merge([5, 3, 1, 2, 4], [1, 3, 5, 2, 4]))[-1]"
   ]
  },
  {
   "cell_type": "code",
   "execution_count": 324,
   "id": "813965c1",
   "metadata": {},
   "outputs": [
    {
     "data": {
      "text/plain": [
       "2"
      ]
     },
     "execution_count": 324,
     "metadata": {},
     "output_type": "execute_result"
    }
   ],
   "source": [
    "sort_and_count(array_merge([5, 3, 1, 2, 4], [5, 2, 3, 1, 4]))[-1]"
   ]
  },
  {
   "cell_type": "code",
   "execution_count": 325,
   "id": "aecaf509",
   "metadata": {},
   "outputs": [
    {
     "data": {
      "text/plain": [
       "5"
      ]
     },
     "execution_count": 325,
     "metadata": {},
     "output_type": "execute_result"
    }
   ],
   "source": [
    "sort_and_count(array_merge([5, 3, 1, 2, 4], [2, 3, 1, 5, 4]))[-1]"
   ]
  }
 ],
 "metadata": {
  "kernelspec": {
   "display_name": "venv",
   "language": "python",
   "name": "venv"
  },
  "language_info": {
   "codemirror_mode": {
    "name": "ipython",
    "version": 3
   },
   "file_extension": ".py",
   "mimetype": "text/x-python",
   "name": "python",
   "nbconvert_exporter": "python",
   "pygments_lexer": "ipython3",
   "version": "3.11.4"
  }
 },
 "nbformat": 4,
 "nbformat_minor": 5
}

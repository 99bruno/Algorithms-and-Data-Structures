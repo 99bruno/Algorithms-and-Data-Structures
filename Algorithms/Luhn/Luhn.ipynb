{
 "cells": [
  {
   "metadata": {},
   "cell_type": "markdown",
   "source": "# Credit Card examples",
   "id": "9fdbbc48433356eb"
  },
  {
   "metadata": {},
   "cell_type": "code",
   "outputs": [],
   "execution_count": 138,
   "source": [
    "# American Express\n",
    "card_number_am = \"378282246310005\"\n",
    "# MasterCard\n",
    "card_number_ms = \"5555555555554444\"\n",
    "# Visa\n",
    "card_number_vs = \"4222222222222\""
   ],
   "id": "546c00ae"
  },
  {
   "metadata": {},
   "cell_type": "markdown",
   "source": "# Luhn algorithm",
   "id": "608f784b3b9f3ccd"
  },
  {
   "cell_type": "code",
   "execution_count": 139,
   "id": "d6b0bc56",
   "metadata": {},
   "outputs": [],
   "source": [
    "def luhn(card_number_):\n",
    "    cards = {\n",
    "        34: \"American Express\", 37: \"American Express\",\n",
    "        51: \"MasterCard\", 52: \"MasterCard\", 53: \"MasterCard\", 54: \"MasterCard\", 55: \"MasterCard\",\n",
    "        4: \"Visa\"\n",
    "            }\n",
    "    lst_cn = [int(x) for x in card_number_]\n",
    "    for idx in range(1, len(lst_cn)+1):\n",
    "        if idx % 2:\n",
    "            lst_cn[-idx] = lst_cn[-idx]\n",
    "        else:\n",
    "            lst_cn[-idx] = (lst_cn[-idx]*2 - 9 if len(str(lst_cn[-idx] * 2)) != 1 else lst_cn[-idx]*2)\n",
    "    if not sum(lst_cn) % 10:\n",
    "        if int(card_number_[:2]) in [34, 37, 51, 52, 53, 54, 55]:\n",
    "            return cards[int(card_number_[:2])]\n",
    "        elif int(card_number_[0]) in [4]:\n",
    "            return cards[int(card_number_[0])]\n",
    "        else:\n",
    "            return \"Invalid\"\n",
    "    else:\n",
    "        return \"Invalid\"\n"
   ]
  },
  {
   "metadata": {},
   "cell_type": "markdown",
   "source": "# Check card",
   "id": "e21b3d0c2a1236dc"
  },
  {
   "cell_type": "code",
   "execution_count": 140,
   "id": "d1348b9c",
   "metadata": {},
   "outputs": [],
   "source": [
    "def check_card(card_number_=str):\n",
    "    print(f\"Number: {card_number_}\")\n",
    "    if card_number_.isdigit() and len(card_number_) in [13, 15, 16]:\n",
    "        print(f\"{luhn(card_number_)}\")\n",
    "        "
   ]
  },
  {
   "metadata": {},
   "cell_type": "markdown",
   "source": "# Check cards",
   "id": "29c134e7c0509cd0"
  },
  {
   "cell_type": "code",
   "execution_count": 151,
   "id": "6e90d768",
   "metadata": {},
   "outputs": [
    {
     "name": "stdout",
     "output_type": "stream",
     "text": [
      "Number: card_number_am\n"
     ]
    }
   ],
   "source": [
    "check_card(\"card_number_am\")"
   ]
  }
 ],
 "metadata": {
  "kernelspec": {
   "display_name": "Python 3 (ipykernel)",
   "language": "python",
   "name": "python3"
  },
  "language_info": {
   "codemirror_mode": {
    "name": "ipython",
    "version": 3
   },
   "file_extension": ".py",
   "mimetype": "text/x-python",
   "name": "python",
   "nbconvert_exporter": "python",
   "pygments_lexer": "ipython3",
   "version": "3.11.4"
  }
 },
 "nbformat": 4,
 "nbformat_minor": 5
}

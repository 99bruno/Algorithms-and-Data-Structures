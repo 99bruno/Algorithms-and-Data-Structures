{
 "cells": [
  {
   "metadata": {},
   "cell_type": "markdown",
   "source": "# Credit Card examples",
   "id": "6008ef39b794e7b8"
  },
  {
   "metadata": {},
   "cell_type": "code",
   "outputs": [],
   "execution_count": 36,
   "source": [
    "# American Express 378282246310005\n",
    "card_number_am = \"378282246x10005\"\n",
    "# MasterCard 5555555555554444\n",
    "card_number_ms = \"55555555555544x4\"\n",
    "# Visa 4222222222222\n",
    "card_number_vs = \"42222222222x2\""
   ],
   "id": "b84c85eb"
  },
  {
   "metadata": {},
   "cell_type": "markdown",
   "source": "# Function to find missed value in credit card number using Luhn algorithm",
   "id": "2a80ec17def4ae18"
  },
  {
   "cell_type": "code",
   "execution_count": 37,
   "id": "735eb8ec",
   "metadata": {},
   "outputs": [],
   "source": [
    "def find_missed_value(card_number_):\n",
    "    x_id = abs(card_number_.find(\"x\") - len(card_number_))\n",
    "    lst_cn = [int(x) if x.isdigit() else \"x\" for x in card_number_]\n",
    "    for idx in range(1, len(lst_cn)+1):\n",
    "        if idx % 2:\n",
    "            lst_cn[-idx] = lst_cn[-idx]\n",
    "        elif idx == x_id:\n",
    "            pass\n",
    "        else:\n",
    "            lst_cn[-idx] = (lst_cn[-idx]*2 - 9 if len(str(lst_cn[-idx] * 2)) != 1 else lst_cn[-idx]*2)\n",
    "    lst_cn.remove(\"x\")\n",
    "    posible_x = 10 - (sum(lst_cn) % 10)\n",
    "    if x_id % 2:\n",
    "        return posible_x\n",
    "    elif posible_x == 10:\n",
    "        return 0\n",
    "    else:\n",
    "        return (posible_x+9) / 2 if posible_x%2 else posible_x/2"
   ]
  },
  {
   "metadata": {},
   "cell_type": "markdown",
   "source": "# Testing",
   "id": "bc678928877c63a0"
  },
  {
   "cell_type": "code",
   "execution_count": 38,
   "id": "06120a1e",
   "metadata": {},
   "outputs": [
    {
     "data": {
      "text/plain": [
       "3.0"
      ]
     },
     "execution_count": 38,
     "metadata": {},
     "output_type": "execute_result"
    }
   ],
   "source": [
    "find_missed_value(card_number_am)"
   ]
  }
 ],
 "metadata": {
  "kernelspec": {
   "display_name": "Python 3 (ipykernel)",
   "language": "python",
   "name": "python3"
  },
  "language_info": {
   "codemirror_mode": {
    "name": "ipython",
    "version": 3
   },
   "file_extension": ".py",
   "mimetype": "text/x-python",
   "name": "python",
   "nbconvert_exporter": "python",
   "pygments_lexer": "ipython3",
   "version": "3.11.4"
  }
 },
 "nbformat": 4,
 "nbformat_minor": 5
}

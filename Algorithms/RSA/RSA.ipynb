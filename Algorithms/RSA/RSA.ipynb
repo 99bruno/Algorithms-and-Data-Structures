{
 "cells": [
  {
   "metadata": {},
   "cell_type": "markdown",
   "source": [
    "# RSA\n",
    "***\n",
    "## Create functions to implement RSA"
   ],
   "id": "7b68e0bb15b4fdfa"
  },
  {
   "metadata": {
    "ExecuteTime": {
     "end_time": "2024-09-29T09:32:29.226664Z",
     "start_time": "2024-09-29T09:32:29.217756Z"
    }
   },
   "cell_type": "code",
   "source": [
    "import random, math\n",
    "\n",
    "# Function to check if a number is a prime number\n",
    "def is_prime(num, accuracy=5):\n",
    "    if num < 2:\n",
    "        return False\n",
    "    if num == 2 or num == 3:\n",
    "        return True\n",
    "    if num % 2 == 0:\n",
    "        return False\n",
    "\n",
    "    s, d = 0, num - 1\n",
    "    while d % 2 == 0:\n",
    "        s += 1\n",
    "        d //= 2\n",
    "\n",
    "    for _ in range(accuracy):\n",
    "        a = random.randint(2, num - 2)\n",
    "        x = pow(a, d, num)\n",
    "        if x == 1 or x == num - 1:\n",
    "            continue\n",
    "        for _ in range(s - 1):\n",
    "            x = pow(x, 2, num)\n",
    "            if x == num - 1:\n",
    "                break\n",
    "        else:\n",
    "            return False\n",
    "    return True\n",
    "\n",
    "\n",
    "# Function to generate a random prime number of specified bit length\n",
    "def generate_prime(bits):\n",
    "    while True:\n",
    "        num = random.getrandbits(bits)\n",
    "        if is_prime(num):\n",
    "            return num\n",
    "\n",
    "        \n",
    "# Function to compute the modular inverse of a with respect to m\n",
    "def mod_inverse(a, m):\n",
    "    m0, x0, x1 = m, 0, 1\n",
    "    while a > 1:\n",
    "        q = a // m\n",
    "        m, a = a % m, m\n",
    "        x0, x1 = x1 - q * x0, x0\n",
    "    return x1 + m0 if x1 < 0 else x1\n",
    "\n",
    "\n",
    "# Function to generate RSA key pairs\n",
    "def generate_keypair(bits):\n",
    "    p = generate_prime(bits)\n",
    "    q = generate_prime(bits)\n",
    "\n",
    "    n = p * q\n",
    "    phi = (p - 1) * (q - 1)\n",
    "\n",
    "    e = random.randint(2, phi - 1)\n",
    "    while math.gcd(e, phi) != 1:\n",
    "        e = random.randint(2, phi - 1)\n",
    "\n",
    "    d = mod_inverse(e, phi)\n",
    "\n",
    "    return ((e, n), (d, n))\n",
    "\n",
    "\n",
    "# Function to encrypt a message using the public key\n",
    "def encrypt(message, public_key):\n",
    "    e, n = public_key\n",
    "    cipher_text = [pow(ord(char), e, n) for char in message]\n",
    "    return cipher_text\n",
    "\n",
    "\n",
    "# Function to decrypt a cipher text using the private key\n",
    "def decrypt(cipher_text, private_key):\n",
    "    d, n = private_key\n",
    "    plain_text = [chr(pow(char, d, n)) for char in cipher_text]\n",
    "    return ''.join(plain_text)"
   ],
   "id": "84347e8d",
   "outputs": [],
   "execution_count": 1
  },
  {
   "metadata": {},
   "cell_type": "markdown",
   "source": "## Let's encrypt word \"RSA\"",
   "id": "3d471439f7ff9a4e"
  },
  {
   "cell_type": "code",
   "id": "79526d4a",
   "metadata": {
    "ExecuteTime": {
     "end_time": "2024-09-29T09:32:38.723680Z",
     "start_time": "2024-09-29T09:32:38.719269Z"
    }
   },
   "source": [
    "cipher_t = encrypt(\"RSA\", (17, 143))\n",
    "cipher_t"
   ],
   "outputs": [
    {
     "data": {
      "text/plain": [
       "[36, 96, 65]"
      ]
     },
     "execution_count": 4,
     "metadata": {},
     "output_type": "execute_result"
    }
   ],
   "execution_count": 4
  },
  {
   "metadata": {},
   "cell_type": "markdown",
   "source": "# Let's decrypt ",
   "id": "29f76cf4b66b0d49"
  },
  {
   "cell_type": "code",
   "id": "a35398b1",
   "metadata": {
    "ExecuteTime": {
     "end_time": "2024-09-29T09:32:39.275388Z",
     "start_time": "2024-09-29T09:32:39.272016Z"
    }
   },
   "source": [
    "decrypt(cipher_t, (113, 143))"
   ],
   "outputs": [
    {
     "data": {
      "text/plain": [
       "'RSA'"
      ]
     },
     "execution_count": 5,
     "metadata": {},
     "output_type": "execute_result"
    }
   ],
   "execution_count": 5
  }
 ],
 "metadata": {
  "kernelspec": {
   "display_name": "Python 3 (ipykernel)",
   "language": "python",
   "name": "python3"
  },
  "language_info": {
   "codemirror_mode": {
    "name": "ipython",
    "version": 3
   },
   "file_extension": ".py",
   "mimetype": "text/x-python",
   "name": "python",
   "nbconvert_exporter": "python",
   "pygments_lexer": "ipython3",
   "version": "3.11.4"
  }
 },
 "nbformat": 4,
 "nbformat_minor": 5
}

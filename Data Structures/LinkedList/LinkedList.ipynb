{
 "cells": [
  {
   "metadata": {},
   "cell_type": "markdown",
   "source": [
    "# Linked List\n",
    "***\n",
    "## Create a class Linked List"
   ],
   "id": "da6b7c67046b285a"
  },
  {
   "metadata": {},
   "cell_type": "code",
   "outputs": [],
   "execution_count": 510,
   "source": [
    "class Node:\n",
    "    data = None\n",
    "    next = None\n",
    "\n",
    "    def __init__(self, data=None):\n",
    "        self.data = data\n",
    "        self.next = None\n",
    "\n",
    "\n",
    "class LinkedList:\n",
    "    head = None\n",
    "    len = None\n",
    "\n",
    "    def __init__(self):\n",
    "        self.head = Node()\n",
    "\n",
    "    # Add new node containing 'data' to the end of the linked list.\n",
    "    def append(self, data):\n",
    "        new_data = Node(data)\n",
    "        current = self.head\n",
    "        while current.next is not None:\n",
    "            current = current.next\n",
    "        current.next = new_data\n",
    "        self.len = self.length()\n",
    "\n",
    "    # Print out the linked list in traditional Python list format.\n",
    "    def display(self):\n",
    "        lst = []\n",
    "        current = self.head\n",
    "        while current.next is not None:\n",
    "            current = current.next\n",
    "            lst.append(current.data)\n",
    "        print(lst)\n",
    "        \n",
    "    # Return list of all elements.\n",
    "    def show_elements(self):\n",
    "        lst = []\n",
    "        current = self.head\n",
    "        while current.next is not None:\n",
    "            current = current.next\n",
    "            lst.append(current.data)\n",
    "        return lst\n",
    "\n",
    "    # Return the length of the linked list.\n",
    "    def length(self):\n",
    "        counter = 0\n",
    "        current = self.head\n",
    "        while current.next is not None:\n",
    "            current = current.next\n",
    "            counter += 1\n",
    "        return counter\n",
    "\n",
    "    # Return the value of the node at 'index'.\n",
    "    def read(self, index, *, data_=True):\n",
    "        if index >= self.length() or index < 0:\n",
    "            print(\"ERROR: 'Read' Index out of range!\")\n",
    "            return None\n",
    "        counter = 0\n",
    "        current = self.head\n",
    "        while True:\n",
    "            current = current.next\n",
    "            if counter == index:\n",
    "                return current.data if data_ else current\n",
    "            counter += 1\n",
    "\n",
    "    # Allow for bracket operator syntax (i.e. a[0] to return first item).\n",
    "    def __getitem__(self, item):\n",
    "        return self.read(item)\n",
    "\n",
    "    # Go to the tail node of the linked list.\n",
    "    def go_to_end(self):\n",
    "        return self.read(self.length() - 1)\n",
    "\n",
    "    # Insert the node at index 'index'. Reports an error, if the index is out of range.\n",
    "    def insert(self, index, data):\n",
    "        if index not in [*range(self.length())]:\n",
    "            print(\"Index out of range\")\n",
    "            return False\n",
    "        new_data = Node(data)\n",
    "        new_data.next = self.read(index, data_=False)\n",
    "        if index != 0:\n",
    "            self.read(index-1, data_=False).next = new_data \n",
    "        else:\n",
    "            self.head.next = new_data\n",
    "        self.len = self.length()\n",
    "\n",
    "    # Insert the node at index 'index'. Appends at the end, if the index is out of range.\n",
    "    def insert_node(self, index, data):\n",
    "        if not self.insert(index, data):\n",
    "            self.append(data)\n",
    "        self.len = self.length()\n",
    "\n",
    "    # Append the set of nodes from a list of values.\n",
    "    def insert_values(self, values):\n",
    "        for value in values:\n",
    "            self.read(self.length()-1, data_=False).next = Node(value)\n",
    "        self.len = self.length()\n",
    "\n",
    "    # Merge two linked lists\n",
    "    def merge_lists(self, lnkdlist):\n",
    "        self.insert_values(lnkdlist.show_elements())\n",
    "        self.len = self.length()\n",
    "\n",
    "    # Replaces the value of node at index 'index' with the new value 'data'.\n",
    "    def modify(self, index, data):\n",
    "        if index not in [*range(self.length())]:\n",
    "            print(\"Index out of range\")\n",
    "            return False\n",
    "        self.read(index, data_=False).data = data\n",
    "\n",
    "    # Deletes the node at index 'index'.\n",
    "    def delete(self, index):\n",
    "        self.read(index-1, data_=False).next = self.read(index+1, data_=False) \n",
    "        self.len = self.length()\n",
    "        \n",
    "    # Swaps 2 elements\n",
    "    def swap_positions(self, first_index, second_index):\n",
    "        first_data = self.read(first_index, data_=False).data\n",
    "        second_data = self.read(second_index, data_=False).data\n",
    "        \n",
    "        self.read(first_index, data_=False).data = second_data\n",
    "        self.read(second_index, data_=False).data = first_data\n",
    "        \n",
    "    # Reverse the linked list  \n",
    "    def reverse(self):\n",
    "        first = [*range(round(self.len//2))]\n",
    "        last = [*range(round(self.len//2) if not self.len%2 else round(self.len//2)+1, self.len)]\n",
    "        last.sort(reverse=True)\n",
    "        for first_idx, last_idx in zip(first, last):\n",
    "            self.swap_positions(first_idx, last_idx)"
   ],
   "id": "43081280"
  },
  {
   "cell_type": "markdown",
   "id": "937c1842",
   "metadata": {},
   "source": "## Let's check the append method"
  },
  {
   "cell_type": "code",
   "execution_count": 482,
   "id": "0b6e1a44",
   "metadata": {
    "scrolled": true
   },
   "outputs": [
    {
     "name": "stdout",
     "output_type": "stream",
     "text": [
      "[1, 'Hi!', 3.14]\n"
     ]
    }
   ],
   "source": [
    "ll = LinkedList()\n",
    "ll.append(1)\n",
    "ll.append(\"Hi!\")\n",
    "ll.append(3.14)\n",
    "ll.display()"
   ]
  },
  {
   "cell_type": "markdown",
   "id": "56c190f2",
   "metadata": {},
   "source": "## Let's check the method read and bracket operator syntax "
  },
  {
   "cell_type": "code",
   "execution_count": 483,
   "id": "03db653c",
   "metadata": {},
   "outputs": [
    {
     "name": "stdout",
     "output_type": "stream",
     "text": [
      "3.14\n",
      "Hi!\n"
     ]
    }
   ],
   "source": [
    "print(ll.read(2))\n",
    "print(ll[1])"
   ]
  },
  {
   "cell_type": "markdown",
   "id": "6ea66afc",
   "metadata": {},
   "source": "## Let's check the go_to_end method"
  },
  {
   "cell_type": "code",
   "execution_count": 484,
   "id": "b8b72a58",
   "metadata": {},
   "outputs": [
    {
     "name": "stdout",
     "output_type": "stream",
     "text": [
      "[12, 12]\n"
     ]
    }
   ],
   "source": [
    "ll_1 = LinkedList()\n",
    "ll_1.append(12)\n",
    "ll_1.append(\"Hi!\")\n",
    "ll_1.append(3.14)\n",
    "ll_1.append([12, 12])\n",
    "print(ll_1.go_to_end())"
   ]
  },
  {
   "cell_type": "markdown",
   "id": "c0d3d58e",
   "metadata": {},
   "source": "## Let's check the insert method"
  },
  {
   "cell_type": "code",
   "execution_count": 485,
   "id": "d15eda26",
   "metadata": {},
   "outputs": [
    {
     "name": "stdout",
     "output_type": "stream",
     "text": [
      "[12, [12, 12], 'Hi!', 3.14]\n"
     ]
    }
   ],
   "source": [
    "ll_1 = LinkedList()\n",
    "ll_1.append(12)\n",
    "ll_1.append(\"Hi!\")\n",
    "ll_1.append(3.14)\n",
    "ll_1.insert(1, [12, 12])\n",
    "ll_1.display()"
   ]
  },
  {
   "cell_type": "markdown",
   "id": "c85da24c",
   "metadata": {},
   "source": "## Let's check the insert_node method"
  },
  {
   "cell_type": "code",
   "execution_count": 486,
   "id": "fae45230",
   "metadata": {},
   "outputs": [
    {
     "name": "stdout",
     "output_type": "stream",
     "text": [
      "[[12, 12], 12, 'Hi!', 3.14, [12, 12]]\n"
     ]
    }
   ],
   "source": [
    "ll_1 = LinkedList()\n",
    "ll_1.append(12)\n",
    "ll_1.append(\"Hi!\")\n",
    "ll_1.append(3.14)\n",
    "ll_1.insert_node(0, [12, 12])\n",
    "ll_1.display()"
   ]
  },
  {
   "cell_type": "markdown",
   "id": "8b108db4",
   "metadata": {},
   "source": "## Let's check the insert_values method "
  },
  {
   "cell_type": "code",
   "execution_count": 487,
   "id": "b3941672",
   "metadata": {},
   "outputs": [
    {
     "name": "stdout",
     "output_type": "stream",
     "text": [
      "[12, 'Hi!', 3.14, 0, 1, 12, '', [0, 0]]\n"
     ]
    }
   ],
   "source": [
    "ll_2 = LinkedList()\n",
    "ll_2.append(12)\n",
    "ll_2.append(\"Hi!\")\n",
    "ll_2.append(3.14)\n",
    "ll_2.insert_values([0, 1, 12, '', [0, 0]])\n",
    "ll_2.display()"
   ]
  },
  {
   "cell_type": "markdown",
   "id": "ce07dc3b",
   "metadata": {},
   "source": "##  Let's check the merge_lists method"
  },
  {
   "cell_type": "code",
   "execution_count": 488,
   "id": "94729cb7",
   "metadata": {},
   "outputs": [
    {
     "name": "stdout",
     "output_type": "stream",
     "text": [
      "[12, 'Hi!', 3.14, 0, 1, 12, '', [0, 0], [12, 12], 12, 'Hi!', 3.14, [12, 12]]\n"
     ]
    }
   ],
   "source": [
    "ll_2.merge_lists(ll_1)\n",
    "ll_2.display()"
   ]
  },
  {
   "cell_type": "markdown",
   "id": "5e0b183d",
   "metadata": {},
   "source": "## Let's check the modify method "
  },
  {
   "cell_type": "code",
   "execution_count": 489,
   "id": "5e5a0fcb",
   "metadata": {},
   "outputs": [
    {
     "name": "stdout",
     "output_type": "stream",
     "text": [
      "[12, 'Hi!', 3.14, \"I'm here\", 1, 12, '', [0, 0], [12, 12], 12, 'Hi!', 3.14, [12, 12]]\n"
     ]
    }
   ],
   "source": [
    "ll_2.modify(3, \"I'm here\")\n",
    "ll_2.display()"
   ]
  },
  {
   "cell_type": "markdown",
   "id": "b7f344da",
   "metadata": {},
   "source": "##  Let's check the delete method "
  },
  {
   "cell_type": "code",
   "execution_count": 490,
   "id": "151cf3db",
   "metadata": {},
   "outputs": [
    {
     "name": "stdout",
     "output_type": "stream",
     "text": [
      "[12, 'Hi!', 3.14, 1, 12, '', [0, 0], [12, 12], 12, 'Hi!', 3.14, [12, 12]]\n"
     ]
    }
   ],
   "source": [
    "ll_2.delete(3)\n",
    "ll_2.display()"
   ]
  },
  {
   "cell_type": "markdown",
   "id": "b11d56e3",
   "metadata": {},
   "source": "##  Let's check the len field "
  },
  {
   "cell_type": "code",
   "execution_count": 491,
   "id": "e8665302",
   "metadata": {},
   "outputs": [
    {
     "name": "stdout",
     "output_type": "stream",
     "text": [
      "12\n",
      "11\n",
      "16\n"
     ]
    }
   ],
   "source": [
    "print(ll_2.len)\n",
    "ll_2.delete(3)\n",
    "print(ll_2.len)\n",
    "ll_2.merge_lists(ll_1)\n",
    "print(ll_2.len)"
   ]
  },
  {
   "cell_type": "markdown",
   "id": "d5695a8b",
   "metadata": {},
   "source": "##  let's check the swap_positions method "
  },
  {
   "cell_type": "code",
   "execution_count": 492,
   "id": "a394bcee",
   "metadata": {
    "scrolled": true
   },
   "outputs": [
    {
     "name": "stdout",
     "output_type": "stream",
     "text": [
      "[[12, 12], 12, 'Hi!', 3.14, [12, 12]]\n",
      "[[12, 12], 3.14, 'Hi!', 12, [12, 12]]\n"
     ]
    }
   ],
   "source": [
    "ll_1.display()\n",
    "ll_1.swap_positions(1, 3)\n",
    "ll_1.display()"
   ]
  },
  {
   "cell_type": "markdown",
   "id": "5cfd851b",
   "metadata": {},
   "source": "##  Let's check the swap_positions method"
  },
  {
   "cell_type": "code",
   "execution_count": 509,
   "id": "77b03976",
   "metadata": {},
   "outputs": [
    {
     "name": "stdout",
     "output_type": "stream",
     "text": [
      "[0, 1, 2, 3, 4]\n",
      "[0, 1] [4, 3]\n",
      "[4, 3, 2, 1, 0]\n"
     ]
    }
   ],
   "source": [
    "ll_3 = LinkedList()\n",
    "ll_3.append(0)\n",
    "ll_3.insert_values([1, 2, 3, 4] )\n",
    "ll_3.display()\n",
    "ll_3.reverse()\n",
    "ll_3.display()"
   ]
  }
 ],
 "metadata": {
  "kernelspec": {
   "display_name": "Python 3 (ipykernel)",
   "language": "python",
   "name": "python3"
  },
  "language_info": {
   "codemirror_mode": {
    "name": "ipython",
    "version": 3
   },
   "file_extension": ".py",
   "mimetype": "text/x-python",
   "name": "python",
   "nbconvert_exporter": "python",
   "pygments_lexer": "ipython3",
   "version": "3.11.4"
  }
 },
 "nbformat": 4,
 "nbformat_minor": 5
}
